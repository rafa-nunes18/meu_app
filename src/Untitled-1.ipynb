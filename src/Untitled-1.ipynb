{
 "cells": [
  {
   "cell_type": "code",
   "execution_count": 31,
   "id": "3d6edcfe",
   "metadata": {},
   "outputs": [],
   "source": [
    "carga_por_bitola = {\n",
    "    2.5: 24,\n",
    "    4: 32,\n",
    "    6: 41,\n",
    "    10: 57,\n",
    "    16: 76,\n",
    "    25: 101,\n",
    "    35: 125\n",
    "}\n",
    "\n",
    "agrupamento_de_circuitos = {\n",
    "    1: 1, \n",
    "    2: 0.80,\n",
    "    3: 0.70,\n",
    "    4: 0.65,\n",
    "    5: 0.60,\n",
    "    6: 0.57,\n",
    "    7: 0.54,\n",
    "    8: 0.52\n",
    "}"
   ]
  },
  {
   "cell_type": "code",
   "execution_count": 32,
   "id": "65e85e8b",
   "metadata": {},
   "outputs": [],
   "source": [
    "def obter_valor(prompt):\n",
    "    while True:\n",
    "        entrada = input(prompt)\n",
    "        try:\n",
    "            valor = float(entrada)\n",
    "            return valor\n",
    "        except ValueError:\n",
    "            print(\"Entrada inválida. Por favor, insira apenas números.\")"
   ]
  },
  {
   "cell_type": "code",
   "execution_count": null,
   "id": "0a4cc54f",
   "metadata": {},
   "outputs": [],
   "source": [
    "def temperatura_hambiente():\n",
    "    def calcular_fator_temperatura(temperatura):  \n",
    "        if not (10 <= temperatura <= 60):  \n",
    "            print(f\" A temperatura {temperatura}°C esta fora do intervalo permitido. coloque de 10 a 60 °C.\")  \n",
    "            return None  \n",
    "        if 10 <= temperatura < 15:  \n",
    "            return 1.22  \n",
    "        elif 15 <= temperatura < 20:  \n",
    "            return 1.17  \n",
    "        elif 20 <= temperatura < 25:  \n",
    "            return 1.12  \n",
    "        elif 25 <= temperatura < 30:  \n",
    "            return 1.06  \n",
    "        elif 30 <= temperatura < 35:  \n",
    "            return 1  \n",
    "        elif 35 <= temperatura < 40:  \n",
    "            return 0.94  \n",
    "        elif 40 <= temperatura < 45:  \n",
    "            return 0.87  \n",
    "        elif 45 <= temperatura < 50:  \n",
    "            return 0.79  \n",
    "        elif 50 <= temperatura < 55:  \n",
    "            return 0.71  \n",
    "        elif 55 <= temperatura < 60:  \n",
    "            return 0.61  \n",
    "        elif temperatura == 60:  \n",
    "            return 0.50  \n",
    "        return None  \n",
    "    while True:  \n",
    "        temperatura = obter_valor(\"Informe a temperatura do ambiente (°C, 10-60): \")  \n",
    "        fator_temp = calcular_fator_temperatura(temperatura)  \n",
    "        if fator_temp is not None:  \n",
    "            print (f\"Temperatura: {int(temperatura)}°C - Fator de correçao: {fator_temp}.\") \n",
    "            break \n",
    "    return fator_temp    "
   ]
  },
  {
   "cell_type": "code",
   "execution_count": 34,
   "id": "95adc6c5",
   "metadata": {},
   "outputs": [
    {
     "name": "stdout",
     "output_type": "stream",
     "text": [
      "Calculadora de bitola de cabo com fatores de correção (NBR 5410)\n"
     ]
    }
   ],
   "source": [
    "print(\"Calculadora de bitola de cabo com fatores de correção (NBR 5410)\")"
   ]
  },
  {
   "cell_type": "code",
   "execution_count": null,
   "id": "0b580b97",
   "metadata": {},
   "outputs": [],
   "source": [
    "def corrente_equipamento(): \n",
    "    while True:\n",
    "        potencia = int(obter_valor(\"Informe a potencia do equipamento (W): \"))\n",
    "        tensao = int(obter_valor(\"Informe a tensão da alimentação (V): \"))\n",
    "        carga_necessaria = potencia / tensao\n",
    "        carga_maxima_tabela = max(carga_por_bitola.values())\n",
    "\n",
    "        if carga_necessaria > carga_maxima_tabela:\n",
    "            print(f\"Sua carga necessária de {carga_necessaria:.2f} A excede a capacidade máxima do programa ({carga_maxima_tabela} A).\")\n",
    "            print(\"Por favor, insira valores de potência e tensão que atendam à capacidade do programa.\")\n",
    "        else:\n",
    "            print(f\"A sua carga necessária é: {carga_necessaria:.2f} A\")\n",
    "            break\n",
    "    return carga_necessaria    "
   ]
  },
  {
   "cell_type": "code",
   "execution_count": null,
   "id": "67b81062",
   "metadata": {},
   "outputs": [
    {
     "name": "stdout",
     "output_type": "stream",
     "text": [
      "Sua carga necessária de 43700.79 A excede a capacidade máxima do programa (125 A).\n",
      "Por favor, insira valores de potência e tensão que atendam à capacidade do programa.\n",
      "A sua carga necessária é: 43.31 A\n"
     ]
    }
   ],
   "source": [
    "carga_necessaria = corrente_equipamento()"
   ]
  },
  {
   "cell_type": "code",
   "execution_count": null,
   "id": "03bea22b",
   "metadata": {},
   "outputs": [
    {
     "name": "stdout",
     "output_type": "stream",
     "text": [
      " A temperatura 70.0°C esta fora do intervalo permitido. coloque de 10 a 60 °C.\n",
      "Temperatura: 30°C - Fator de correçao: 1.\n"
     ]
    }
   ],
   "source": [
    "fator_temp = temperatura_hambiente()"
   ]
  },
  {
   "cell_type": "code",
   "execution_count": 40,
   "id": "50b3a7d2",
   "metadata": {},
   "outputs": [],
   "source": [
    "def circuitos_eletroduto():\n",
    "    circuitos = int(obter_valor(\" Informe a quntidade de circuitos no mesmo eletroduto\"))\n",
    "\n",
    "    while True:\n",
    "        if not 1 <= circuitos <= 8:\n",
    "            print(\"Coloque de 1 a 8 circuitos no máximo.\")\n",
    "            circuitos = int(obter_valor(\" Informe a quntidade de circuitos no mesmo eletroduto\"))\n",
    "        else:\n",
    "            break\n",
    "\n",
    "    for quantidade_circuito, fator in agrupamento_de_circuitos.items():\n",
    "        if circuitos == quantidade_circuito:\n",
    "            fator_de_agrupameto = fator\n",
    "            break     \n",
    "    print(f\"Quantidade de circuitos: {circuitos} - Fator de agrupamento: {fator_de_agrupameto}.\")\n",
    "    return fator_de_agrupameto"
   ]
  },
  {
   "cell_type": "code",
   "execution_count": 41,
   "id": "0e659098",
   "metadata": {},
   "outputs": [
    {
     "name": "stdout",
     "output_type": "stream",
     "text": [
      "Coloque de 1 a 8 circuitos no máximo.\n",
      "Quantidade de circuitos: 6 - Fator de agrupamento: 0.57.\n"
     ]
    }
   ],
   "source": [
    "fator_de_agrupameto = circuitos_eletroduto()"
   ]
  },
  {
   "cell_type": "code",
   "execution_count": null,
   "id": "bd7c8745",
   "metadata": {},
   "outputs": [
    {
     "name": "stdout",
     "output_type": "stream",
     "text": [
      "4 32\n"
     ]
    }
   ],
   "source": [
    "def corrente_corrigida ():\n",
    "    bitola = None\n",
    "    corrente = None\n",
    "\n",
    "    for cabo , carga in carga_por_bitola.items():\n",
    "        if carga_necessaria <= carga:\n",
    "            bitola = cabo\n",
    "            corrente = carga\n",
    "            break\n",
    "\n",
    "    carga_corrida = corrente * fator_temp * fator_de_agrupameto \n",
    "    print(cabo, carga_corrida)\n",
    "    return carga_corrida    "
   ]
  },
  {
   "cell_type": "code",
   "execution_count": null,
   "id": "b2cc0148",
   "metadata": {},
   "outputs": [],
   "source": [
    "carga_corrigida = corrente_corrigida()"
   ]
  },
  {
   "cell_type": "code",
   "execution_count": null,
   "id": "fe7f16c2",
   "metadata": {},
   "outputs": [
    {
     "name": "stdout",
     "output_type": "stream",
     "text": [
      "\n",
      "Bitola recomendada: 4 mm²\n",
      "Corrente corrida suportada: 32 A.\n"
     ]
    }
   ],
   "source": [
    "def cabo_recomendado():\n",
    "    carga_list = sorted(carga_por_bitola.items())\n",
    "\n",
    "    indice_atual = None\n",
    "\n",
    "    for i, (cabo, carga) in enumerate(carga_list):\n",
    "        if cabo == bitola:\n",
    "            indice_atual = i\n",
    "            break\n",
    "\n",
    "    while True:\n",
    "        if carga_corrida >= carga_necessaria:\n",
    "            print(f\"\\nBitola recomendada: {bitola} mm²\\nCorrente corrida suportada: {int(carga_corrida)} A.\")\n",
    "            break\n",
    "        else:\n",
    "            if indice_atual + 1 < len(carga_list):\n",
    "                indice_atual += 1\n",
    "                cabo, carga = carga_list[indice_atual]\n",
    "                carga_corrida = carga * fator_temp * fator_de_agrupameto\n",
    "                if carga_corrida >= carga_necessaria:\n",
    "                    bitola = cabo\n",
    "                    print(f\"\\nBitola recomendada: {bitola} mm²\\nCorrente corrigida suportada: {int(carga_corrida)} A.\")\n",
    "                    break\n",
    "            else:\n",
    "                print(\"Não há bitolas disponíveis que suportem essa carga. Considere uma bitola maior ou verificar as tabelas.\")\n",
    "                break\n",
    "    return bitola, carga_corrida       \n",
    "\n"
   ]
  },
  {
   "cell_type": "code",
   "execution_count": null,
   "id": "c66b5321",
   "metadata": {},
   "outputs": [],
   "source": [
    "bitola , carga_corrigida = cabo_recomendado()"
   ]
  },
  {
   "cell_type": "code",
   "execution_count": null,
   "id": "4ddeb01a",
   "metadata": {},
   "outputs": [],
   "source": [
    "def main():\n",
    "    \n",
    "    print(\"Calculadora de bitola de cabo com fatores de correção (NBR 5410)\")\n",
    "\n",
    "    carga_necessaria = corrente_equipamento()\n",
    "    \n",
    "    fator_temp = temperatura_hambiente()\n",
    "\n",
    "    fator_de_agrupameto = circuitos_eletroduto()\n",
    "\n",
    "    carga_corrigida = corrente_corrigida()\n",
    "\n",
    "    bitola , carga_corrigida = cabo_recomendado()\n",
    "    \n",
    "    "
   ]
  },
  {
   "cell_type": "code",
   "execution_count": null,
   "id": "50a06d08",
   "metadata": {},
   "outputs": [],
   "source": [
    "\n",
    "if __name__ == \"__main__\":\n",
    "    main()"
   ]
  }
 ],
 "metadata": {
  "kernelspec": {
   "display_name": "Python 3",
   "language": "python",
   "name": "python3"
  },
  "language_info": {
   "codemirror_mode": {
    "name": "ipython",
    "version": 3
   },
   "file_extension": ".py",
   "mimetype": "text/x-python",
   "name": "python",
   "nbconvert_exporter": "python",
   "pygments_lexer": "ipython3",
   "version": "3.13.3"
  }
 },
 "nbformat": 4,
 "nbformat_minor": 5
}
